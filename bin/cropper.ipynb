{
 "cells": [
  {
   "cell_type": "code",
   "execution_count": 1,
   "metadata": {},
   "outputs": [
    {
     "name": "stdout",
     "output_type": "stream",
     "text": [
      "/home/jacob/Code/ai-proverbs/bin\n"
     ]
    }
   ],
   "source": [
    "!pwd"
   ]
  },
  {
   "cell_type": "code",
   "execution_count": 7,
   "metadata": {},
   "outputs": [
    {
     "name": "stdout",
     "output_type": "stream",
     "text": [
      "friends.png\n",
      "happy-trash-truck.png\n",
      "heart-globe-3.png\n",
      "bear-fish-crow-1.png\n",
      "bear-fish-crow-3.png\n",
      "burning-heart.png\n",
      "burning-heart-2.png\n",
      "bear-fish-crow-4.png\n",
      "bear-fish-crow-2.png\n",
      "burning-heart-1.png\n",
      "happy-smile.png\n",
      "happy-frown.png\n",
      "lamp-in-the-dark.png\n",
      "heart-globe-1.png\n",
      "heart-globe-2.png\n",
      "lamp-alway-on.png\n"
     ]
    }
   ],
   "source": [
    "import os\n",
    "from PIL import Image\n",
    "\n",
    "# crop all images to (t, l, h, w) = (50, 50, 200, 300)\n",
    "for filename in os.listdir('../assets/todo'):\n",
    "    img = Image.open('../assets/todo/' + filename)\n",
    "    img = img.crop((17, 275, 935, 1190))\n",
    "    img.save('../assets/cropped/' + filename)\n",
    "    print(filename)"
   ]
  }
 ],
 "metadata": {
  "kernelspec": {
   "display_name": "Python 3.8.12 ('ai')",
   "language": "python",
   "name": "python3"
  },
  "language_info": {
   "codemirror_mode": {
    "name": "ipython",
    "version": 3
   },
   "file_extension": ".py",
   "mimetype": "text/x-python",
   "name": "python",
   "nbconvert_exporter": "python",
   "pygments_lexer": "ipython3",
   "version": "3.8.12"
  },
  "orig_nbformat": 4,
  "vscode": {
   "interpreter": {
    "hash": "605fe966a75bc2c3dfa708e269323e6491854b30a36f4e77953579e94649bfba"
   }
  }
 },
 "nbformat": 4,
 "nbformat_minor": 2
}
